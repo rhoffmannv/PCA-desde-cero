{
 "cells": [
  {
   "cell_type": "markdown",
   "id": "e6275b0c",
   "metadata": {},
   "source": [
    "## Importar librería"
   ]
  },
  {
   "cell_type": "code",
   "execution_count": 1,
   "id": "f8e4f521",
   "metadata": {},
   "outputs": [],
   "source": [
    "import numpy as np"
   ]
  },
  {
   "cell_type": "markdown",
   "id": "e3c86296",
   "metadata": {},
   "source": [
    "## Definir clase con implementación de algoritmo PCA\n",
    "\n",
    "Se usan 3 métodos:\n",
    "- **__init__**: El constructor, que toma como argumento el número de componentes a considerar y se inicializan las variables de clase.\n",
    "- **fit**: Método para calcular las direcciones o componentes principales que mejor capturan la varianza de los datos.\n",
    "- **transform**: Método para proyectar datos en las direcciones principales a considerar.\n",
    "\n",
    "### Constructor\n",
    "\n",
    "Declara las variables:\n",
    "   - *n_componentes*: Número de componentes a considerar (argumento de constructor)\n",
    "   - *eigenvalues*: Vector con los eigenvalues de la matriz de covarianza, ordenados de mayor a menor.\n",
    "   - *eigenvectors*: Matriz con los eigenvectors de la matriz de covarianza, ordenados de mayor a menor según *eigenvalues* correspondientes.\n",
    "   - *promedio*: Vector con el promedio *feature* a *feature* de los datos iniciales.\n",
    "   - *componentes*: Matriz con los *n_componentes eigenvectors* más importantes (mayor *eigenvalues*).\n",
    "   \n",
    "### Método Fit\n",
    "\n",
    "En resumen, la implementación es la siguiente:\n",
    "- Centrar los datos, restando a cada *datapoint* el promedio *feature* a *feature*.\n",
    "- Calcular la matriz de covarianza.\n",
    "- Calcular los *eigenvalues* y los *eigenvectors* de la matriz de covarianza.\n",
    "- Ordenar *eigenvalues* de mayor a menor.\n",
    "- Ordenar los *eigenvectors* de mayor a menor segun *eigenvalue* asociado.\n",
    "- Guardar en una matriz los *n_componentes eigenvectors* más influyentes.\n",
    "\n",
    "### Método Transform\n",
    "\n",
    "Para aplicar el algoritmo sobre datos.\n",
    "\n",
    "- Toma como argumento los datos a transformar.\n",
    "- Se proyectan los datos a *n_componentes* dimensiones multiplicandolos (producto punto) con la matriz *componentes* que contiene los *eigenvectors* que más varianza aportan a los datos."
   ]
  },
  {
   "cell_type": "code",
   "execution_count": 2,
   "id": "850c1fff",
   "metadata": {},
   "outputs": [],
   "source": [
    "class PCA:\n",
    "    \n",
    "    def __init__(self, n_componentes):\n",
    "        \n",
    "        self.n_componentes = n_componentes\n",
    "        self.eigenvalues= None\n",
    "        self.eigenvectors = None\n",
    "        self.promedio = None\n",
    "        self.componentes = None\n",
    "        \n",
    "    def fit(self, X):# X matriz de datos con filas como datapoints y columnas como features\n",
    "        \n",
    "        # Calcular el promedio por cada columna (promedio por feature)\n",
    "        self.promedio = np.mean(X, axis=0)\n",
    "        # Restar a cada fila el promedio (resta a cada feature el promedio de esta)\n",
    "        X = X - self.promedio\n",
    "        # Calcular la matriz de covarianza (Transponer X porque espera filas como features y columnas como datapoints)\n",
    "        matriz_covarianza = np.cov(X.T)\n",
    "        # Calcular eigenvalues y eigenvectors (entrega vectores columna)\n",
    "        eigenvalues, eigenvectors = np.linalg.eig(matriz_covarianza)\n",
    "        # Indices para ordenar eigenvalues de mayor a menor\n",
    "        idx_ordenados = np.argsort(eigenvalues)[::-1]\n",
    "        # Ordenar de mayor a menor eigenvalue y transponer a fila\n",
    "        self.eigenvalues = eigenvalues[idx_ordenados].T\n",
    "        # Ordenar de mayor a menor segun eigenvalue asociado y transponer a fila\n",
    "        self.eigenvectors = eigenvectors[idx_ordenados].T\n",
    "        # Extraer los primero n_componentes eigenvectors\n",
    "        self.componentes= self.eigenvectors[:self.n_componentes]\n",
    "        \n",
    "    def transform(self, X):# X matriz de datos con filas como datapoints y columnas como features\n",
    "        promedio = np.mean(X, axis=0)\n",
    "        # Centrar los datos\n",
    "        X = X - promedio\n",
    "        # Hacer X * componentes^T ya que dimension X es (N, D) y dimension de componentes es (n_componentes, D)\n",
    "        # Asi se proyectan los datos a matriz de dimensiones (N, n_componentes)\n",
    "        return np.dot(X, self.componentes.T)\n",
    "        "
   ]
  }
 ],
 "metadata": {
  "kernelspec": {
   "display_name": "Python 3 (ipykernel)",
   "language": "python",
   "name": "python3"
  },
  "language_info": {
   "codemirror_mode": {
    "name": "ipython",
    "version": 3
   },
   "file_extension": ".py",
   "mimetype": "text/x-python",
   "name": "python",
   "nbconvert_exporter": "python",
   "pygments_lexer": "ipython3",
   "version": "3.11.4"
  }
 },
 "nbformat": 4,
 "nbformat_minor": 5
}
